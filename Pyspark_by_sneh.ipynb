{
  "nbformat": 4,
  "nbformat_minor": 0,
  "metadata": {
    "colab": {
      "provenance": [],
      "collapsed_sections": [
        "ApZLoj5vBhTC",
        "yAwOe1IVK6nP",
        "P-CbgpXHUPKs",
        "Hnas7dCEglEj",
        "aoV8q2j02wM3"
      ]
    },
    "kernelspec": {
      "name": "python3",
      "display_name": "Python 3"
    },
    "language_info": {
      "name": "python"
    }
  },
  "cells": [
    {
      "cell_type": "code",
      "execution_count": 1,
      "metadata": {
        "colab": {
          "base_uri": "https://localhost:8080/"
        },
        "id": "aYggOZ1OvrI1",
        "outputId": "5cbbe97c-ba1d-4ebd-f882-bdf43b22ef5b"
      },
      "outputs": [
        {
          "output_type": "stream",
          "name": "stdout",
          "text": [
            "hii bigdata\n"
          ]
        }
      ],
      "source": [
        "print(\"hii bigdata\")"
      ]
    },
    {
      "cell_type": "code",
      "source": [
        "! pip install pyspark"
      ],
      "metadata": {
        "colab": {
          "base_uri": "https://localhost:8080/"
        },
        "id": "1PtP1wtwvy2X",
        "outputId": "f63aac17-d008-450d-f887-1a6b4ef6dc00"
      },
      "execution_count": 3,
      "outputs": [
        {
          "output_type": "stream",
          "name": "stdout",
          "text": [
            "Looking in indexes: https://pypi.org/simple, https://us-python.pkg.dev/colab-wheels/public/simple/\n",
            "Collecting pyspark\n",
            "  Downloading pyspark-3.3.0.tar.gz (281.3 MB)\n",
            "\u001b[K     |████████████████████████████████| 281.3 MB 59 kB/s \n",
            "\u001b[?25hCollecting py4j==0.10.9.5\n",
            "  Downloading py4j-0.10.9.5-py2.py3-none-any.whl (199 kB)\n",
            "\u001b[K     |████████████████████████████████| 199 kB 64.1 MB/s \n",
            "\u001b[?25hBuilding wheels for collected packages: pyspark\n",
            "  Building wheel for pyspark (setup.py) ... \u001b[?25l\u001b[?25hdone\n",
            "  Created wheel for pyspark: filename=pyspark-3.3.0-py2.py3-none-any.whl size=281764026 sha256=a8c3cee59b834d6dd82ea8bbf19ffb3d130ce492f24a0246cd49da664703014f\n",
            "  Stored in directory: /root/.cache/pip/wheels/7a/8e/1b/f73a52650d2e5f337708d9f6a1750d451a7349a867f928b885\n",
            "Successfully built pyspark\n",
            "Installing collected packages: py4j, pyspark\n",
            "Successfully installed py4j-0.10.9.5 pyspark-3.3.0\n"
          ]
        }
      ]
    },
    {
      "cell_type": "code",
      "source": [
        "import pyspark"
      ],
      "metadata": {
        "id": "JWdLNvoqwRrK"
      },
      "execution_count": 4,
      "outputs": []
    },
    {
      "cell_type": "code",
      "source": [
        "import pandas as pd\n",
        "data=pd.read_csv(\"/content/data.csv\")\n",
        "data.head()\n"
      ],
      "metadata": {
        "colab": {
          "base_uri": "https://localhost:8080/",
          "height": 206
        },
        "id": "KJBbid9hx4C7",
        "outputId": "534d42ac-36da-4801-8f13-d43467d81535"
      },
      "execution_count": null,
      "outputs": [
        {
          "output_type": "execute_result",
          "data": {
            "text/plain": [
              "    Name   Age  Experience\n",
              "0   Sneh    21           2\n",
              "1  Sapna    20           3\n",
              "2   Ajay    45           4\n",
              "3   Neha    22           5\n",
              "4   Ashu    21           6"
            ],
            "text/html": [
              "\n",
              "  <div id=\"df-26e5923c-473f-424b-a51c-cf469ad81ca5\">\n",
              "    <div class=\"colab-df-container\">\n",
              "      <div>\n",
              "<style scoped>\n",
              "    .dataframe tbody tr th:only-of-type {\n",
              "        vertical-align: middle;\n",
              "    }\n",
              "\n",
              "    .dataframe tbody tr th {\n",
              "        vertical-align: top;\n",
              "    }\n",
              "\n",
              "    .dataframe thead th {\n",
              "        text-align: right;\n",
              "    }\n",
              "</style>\n",
              "<table border=\"1\" class=\"dataframe\">\n",
              "  <thead>\n",
              "    <tr style=\"text-align: right;\">\n",
              "      <th></th>\n",
              "      <th>Name</th>\n",
              "      <th>Age</th>\n",
              "      <th>Experience</th>\n",
              "    </tr>\n",
              "  </thead>\n",
              "  <tbody>\n",
              "    <tr>\n",
              "      <th>0</th>\n",
              "      <td>Sneh</td>\n",
              "      <td>21</td>\n",
              "      <td>2</td>\n",
              "    </tr>\n",
              "    <tr>\n",
              "      <th>1</th>\n",
              "      <td>Sapna</td>\n",
              "      <td>20</td>\n",
              "      <td>3</td>\n",
              "    </tr>\n",
              "    <tr>\n",
              "      <th>2</th>\n",
              "      <td>Ajay</td>\n",
              "      <td>45</td>\n",
              "      <td>4</td>\n",
              "    </tr>\n",
              "    <tr>\n",
              "      <th>3</th>\n",
              "      <td>Neha</td>\n",
              "      <td>22</td>\n",
              "      <td>5</td>\n",
              "    </tr>\n",
              "    <tr>\n",
              "      <th>4</th>\n",
              "      <td>Ashu</td>\n",
              "      <td>21</td>\n",
              "      <td>6</td>\n",
              "    </tr>\n",
              "  </tbody>\n",
              "</table>\n",
              "</div>\n",
              "      <button class=\"colab-df-convert\" onclick=\"convertToInteractive('df-26e5923c-473f-424b-a51c-cf469ad81ca5')\"\n",
              "              title=\"Convert this dataframe to an interactive table.\"\n",
              "              style=\"display:none;\">\n",
              "        \n",
              "  <svg xmlns=\"http://www.w3.org/2000/svg\" height=\"24px\"viewBox=\"0 0 24 24\"\n",
              "       width=\"24px\">\n",
              "    <path d=\"M0 0h24v24H0V0z\" fill=\"none\"/>\n",
              "    <path d=\"M18.56 5.44l.94 2.06.94-2.06 2.06-.94-2.06-.94-.94-2.06-.94 2.06-2.06.94zm-11 1L8.5 8.5l.94-2.06 2.06-.94-2.06-.94L8.5 2.5l-.94 2.06-2.06.94zm10 10l.94 2.06.94-2.06 2.06-.94-2.06-.94-.94-2.06-.94 2.06-2.06.94z\"/><path d=\"M17.41 7.96l-1.37-1.37c-.4-.4-.92-.59-1.43-.59-.52 0-1.04.2-1.43.59L10.3 9.45l-7.72 7.72c-.78.78-.78 2.05 0 2.83L4 21.41c.39.39.9.59 1.41.59.51 0 1.02-.2 1.41-.59l7.78-7.78 2.81-2.81c.8-.78.8-2.07 0-2.86zM5.41 20L4 18.59l7.72-7.72 1.47 1.35L5.41 20z\"/>\n",
              "  </svg>\n",
              "      </button>\n",
              "      \n",
              "  <style>\n",
              "    .colab-df-container {\n",
              "      display:flex;\n",
              "      flex-wrap:wrap;\n",
              "      gap: 12px;\n",
              "    }\n",
              "\n",
              "    .colab-df-convert {\n",
              "      background-color: #E8F0FE;\n",
              "      border: none;\n",
              "      border-radius: 50%;\n",
              "      cursor: pointer;\n",
              "      display: none;\n",
              "      fill: #1967D2;\n",
              "      height: 32px;\n",
              "      padding: 0 0 0 0;\n",
              "      width: 32px;\n",
              "    }\n",
              "\n",
              "    .colab-df-convert:hover {\n",
              "      background-color: #E2EBFA;\n",
              "      box-shadow: 0px 1px 2px rgba(60, 64, 67, 0.3), 0px 1px 3px 1px rgba(60, 64, 67, 0.15);\n",
              "      fill: #174EA6;\n",
              "    }\n",
              "\n",
              "    [theme=dark] .colab-df-convert {\n",
              "      background-color: #3B4455;\n",
              "      fill: #D2E3FC;\n",
              "    }\n",
              "\n",
              "    [theme=dark] .colab-df-convert:hover {\n",
              "      background-color: #434B5C;\n",
              "      box-shadow: 0px 1px 3px 1px rgba(0, 0, 0, 0.15);\n",
              "      filter: drop-shadow(0px 1px 2px rgba(0, 0, 0, 0.3));\n",
              "      fill: #FFFFFF;\n",
              "    }\n",
              "  </style>\n",
              "\n",
              "      <script>\n",
              "        const buttonEl =\n",
              "          document.querySelector('#df-26e5923c-473f-424b-a51c-cf469ad81ca5 button.colab-df-convert');\n",
              "        buttonEl.style.display =\n",
              "          google.colab.kernel.accessAllowed ? 'block' : 'none';\n",
              "\n",
              "        async function convertToInteractive(key) {\n",
              "          const element = document.querySelector('#df-26e5923c-473f-424b-a51c-cf469ad81ca5');\n",
              "          const dataTable =\n",
              "            await google.colab.kernel.invokeFunction('convertToInteractive',\n",
              "                                                     [key], {});\n",
              "          if (!dataTable) return;\n",
              "\n",
              "          const docLinkHtml = 'Like what you see? Visit the ' +\n",
              "            '<a target=\"_blank\" href=https://colab.research.google.com/notebooks/data_table.ipynb>data table notebook</a>'\n",
              "            + ' to learn more about interactive tables.';\n",
              "          element.innerHTML = '';\n",
              "          dataTable['output_type'] = 'display_data';\n",
              "          await google.colab.output.renderOutput(dataTable, element);\n",
              "          const docLink = document.createElement('div');\n",
              "          docLink.innerHTML = docLinkHtml;\n",
              "          element.appendChild(docLink);\n",
              "        }\n",
              "      </script>\n",
              "    </div>\n",
              "  </div>\n",
              "  "
            ]
          },
          "metadata": {},
          "execution_count": 27
        }
      ]
    },
    {
      "cell_type": "code",
      "source": [
        "type(data)"
      ],
      "metadata": {
        "colab": {
          "base_uri": "https://localhost:8080/"
        },
        "id": "orMMFNS60Yq-",
        "outputId": "14b19d80-4606-4b0c-bf28-21105bcc0fbd"
      },
      "execution_count": null,
      "outputs": [
        {
          "output_type": "execute_result",
          "data": {
            "text/plain": [
              "pandas.core.frame.DataFrame"
            ]
          },
          "metadata": {},
          "execution_count": 28
        }
      ]
    },
    {
      "cell_type": "code",
      "source": [
        "from pyspark.sql import SparkSession"
      ],
      "metadata": {
        "id": "1g5DfNKgx-WB"
      },
      "execution_count": null,
      "outputs": []
    },
    {
      "cell_type": "code",
      "source": [
        "spark=SparkSession.builder.appName('practice').getOrCreate()"
      ],
      "metadata": {
        "id": "ji9BlW5nzZbA"
      },
      "execution_count": null,
      "outputs": []
    },
    {
      "cell_type": "code",
      "source": [
        "spark"
      ],
      "metadata": {
        "colab": {
          "base_uri": "https://localhost:8080/",
          "height": 219
        },
        "id": "2A5EW1SVzmr7",
        "outputId": "cb35560a-1b41-46a9-db66-1af83158e79d"
      },
      "execution_count": null,
      "outputs": [
        {
          "output_type": "execute_result",
          "data": {
            "text/plain": [
              "<pyspark.sql.session.SparkSession at 0x7fb63fda00d0>"
            ],
            "text/html": [
              "\n",
              "            <div>\n",
              "                <p><b>SparkSession - in-memory</b></p>\n",
              "                \n",
              "        <div>\n",
              "            <p><b>SparkContext</b></p>\n",
              "\n",
              "            <p><a href=\"http://f54764deb0ec:4040\">Spark UI</a></p>\n",
              "\n",
              "            <dl>\n",
              "              <dt>Version</dt>\n",
              "                <dd><code>v3.3.0</code></dd>\n",
              "              <dt>Master</dt>\n",
              "                <dd><code>local[*]</code></dd>\n",
              "              <dt>AppName</dt>\n",
              "                <dd><code>practice</code></dd>\n",
              "            </dl>\n",
              "        </div>\n",
              "        \n",
              "            </div>\n",
              "        "
            ]
          },
          "metadata": {},
          "execution_count": 34
        }
      ]
    },
    {
      "cell_type": "code",
      "source": [
        "df_pyspark=spark.read.csv(\"/content/data.csv\")"
      ],
      "metadata": {
        "id": "iIvYB1RQzqbw"
      },
      "execution_count": null,
      "outputs": []
    },
    {
      "cell_type": "code",
      "source": [
        "df_pyspark"
      ],
      "metadata": {
        "colab": {
          "base_uri": "https://localhost:8080/"
        },
        "id": "Ywo918iaz5hS",
        "outputId": "29d5d1ed-08b1-41b6-c022-0dde05ebd63e"
      },
      "execution_count": null,
      "outputs": [
        {
          "output_type": "execute_result",
          "data": {
            "text/plain": [
              "DataFrame[_c0: string, _c1: string]"
            ]
          },
          "metadata": {},
          "execution_count": 15
        }
      ]
    },
    {
      "cell_type": "code",
      "source": [
        "df_pyspark.show()"
      ],
      "metadata": {
        "colab": {
          "base_uri": "https://localhost:8080/"
        },
        "id": "fCYKDzBAz-X6",
        "outputId": "2904b22b-72b1-425f-b7c6-58bc4e97fad0"
      },
      "execution_count": null,
      "outputs": [
        {
          "output_type": "stream",
          "name": "stdout",
          "text": [
            "+------+---+\n",
            "|   _c0|_c1|\n",
            "+------+---+\n",
            "| Name |Age|\n",
            "| Sneh | 21|\n",
            "|Sapna | 20|\n",
            "| Ajay | 45|\n",
            "| Neha | 22|\n",
            "| Ashu | 21|\n",
            "|  Ishu| 21|\n",
            "|  Aadi| 29|\n",
            "+------+---+\n",
            "\n"
          ]
        }
      ]
    },
    {
      "cell_type": "code",
      "source": [
        "df=spark.read.option('header','true').csv(\"/content/data.csv\")"
      ],
      "metadata": {
        "id": "hp6y-aJX0CRC"
      },
      "execution_count": null,
      "outputs": []
    },
    {
      "cell_type": "code",
      "source": [
        "df.show()"
      ],
      "metadata": {
        "colab": {
          "base_uri": "https://localhost:8080/"
        },
        "id": "Jtq98WJk0PYo",
        "outputId": "ff93b16a-98ff-4e5b-853a-165ef64770a8"
      },
      "execution_count": null,
      "outputs": [
        {
          "output_type": "stream",
          "name": "stdout",
          "text": [
            "+------+---+\n",
            "| Name |Age|\n",
            "+------+---+\n",
            "| Sneh | 21|\n",
            "|Sapna | 20|\n",
            "| Ajay | 45|\n",
            "| Neha | 22|\n",
            "| Ashu | 21|\n",
            "|  Ishu| 21|\n",
            "|  Aadi| 29|\n",
            "+------+---+\n",
            "\n"
          ]
        }
      ]
    },
    {
      "cell_type": "code",
      "source": [
        "type(df)"
      ],
      "metadata": {
        "colab": {
          "base_uri": "https://localhost:8080/"
        },
        "id": "tOUuvkQ-0QoI",
        "outputId": "b07fa23d-a74b-4f45-c815-98af1f62a758"
      },
      "execution_count": null,
      "outputs": [
        {
          "output_type": "execute_result",
          "data": {
            "text/plain": [
              "pyspark.sql.dataframe.DataFrame"
            ]
          },
          "metadata": {},
          "execution_count": 21
        }
      ]
    },
    {
      "cell_type": "code",
      "source": [
        "df.head(3)"
      ],
      "metadata": {
        "colab": {
          "base_uri": "https://localhost:8080/"
        },
        "id": "RYySCmcD0VYZ",
        "outputId": "0b8100f6-3c4b-4cb9-83ad-df67c7ad8961"
      },
      "execution_count": null,
      "outputs": [
        {
          "output_type": "execute_result",
          "data": {
            "text/plain": [
              "[Row(Name ='Sneh ', Age='21'),\n",
              " Row(Name ='Sapna ', Age='20'),\n",
              " Row(Name ='Ajay ', Age='45')]"
            ]
          },
          "metadata": {},
          "execution_count": 24
        }
      ]
    },
    {
      "cell_type": "code",
      "source": [
        "df.printSchema()"
      ],
      "metadata": {
        "colab": {
          "base_uri": "https://localhost:8080/"
        },
        "id": "ryY7MRhH0kIp",
        "outputId": "e37f5738-f0c4-42ce-d621-a650d96ed56f"
      },
      "execution_count": null,
      "outputs": [
        {
          "output_type": "stream",
          "name": "stdout",
          "text": [
            "root\n",
            " |-- Name : string (nullable = true)\n",
            " |-- Age: string (nullable = true)\n",
            "\n"
          ]
        }
      ]
    },
    {
      "cell_type": "markdown",
      "source": [
        "# tute 1"
      ],
      "metadata": {
        "id": "ApZLoj5vBhTC"
      }
    },
    {
      "cell_type": "code",
      "source": [
        "from pyspark.sql import SparkSession\n",
        "spark=SparkSession.builder.appName('DataFrame').getOrCreate()\n",
        "spark"
      ],
      "metadata": {
        "id": "O84deW4x0pHs",
        "colab": {
          "base_uri": "https://localhost:8080/",
          "height": 219
        },
        "outputId": "a2435b96-223d-4b58-bbe9-b07049a41e1a"
      },
      "execution_count": null,
      "outputs": [
        {
          "output_type": "execute_result",
          "data": {
            "text/plain": [
              "<pyspark.sql.session.SparkSession at 0x7fb63fda00d0>"
            ],
            "text/html": [
              "\n",
              "            <div>\n",
              "                <p><b>SparkSession - in-memory</b></p>\n",
              "                \n",
              "        <div>\n",
              "            <p><b>SparkContext</b></p>\n",
              "\n",
              "            <p><a href=\"http://f54764deb0ec:4040\">Spark UI</a></p>\n",
              "\n",
              "            <dl>\n",
              "              <dt>Version</dt>\n",
              "                <dd><code>v3.3.0</code></dd>\n",
              "              <dt>Master</dt>\n",
              "                <dd><code>local[*]</code></dd>\n",
              "              <dt>AppName</dt>\n",
              "                <dd><code>practice</code></dd>\n",
              "            </dl>\n",
              "        </div>\n",
              "        \n",
              "            </div>\n",
              "        "
            ]
          },
          "metadata": {},
          "execution_count": 82
        }
      ]
    },
    {
      "cell_type": "code",
      "source": [
        "spark"
      ],
      "metadata": {
        "colab": {
          "base_uri": "https://localhost:8080/",
          "height": 219
        },
        "id": "8kNPv3em9Pn-",
        "outputId": "d96effbd-14b7-4721-b095-88b4cb442a80"
      },
      "execution_count": null,
      "outputs": [
        {
          "output_type": "execute_result",
          "data": {
            "text/plain": [
              "<pyspark.sql.session.SparkSession at 0x7fb63fda00d0>"
            ],
            "text/html": [
              "\n",
              "            <div>\n",
              "                <p><b>SparkSession - in-memory</b></p>\n",
              "                \n",
              "        <div>\n",
              "            <p><b>SparkContext</b></p>\n",
              "\n",
              "            <p><a href=\"http://f54764deb0ec:4040\">Spark UI</a></p>\n",
              "\n",
              "            <dl>\n",
              "              <dt>Version</dt>\n",
              "                <dd><code>v3.3.0</code></dd>\n",
              "              <dt>Master</dt>\n",
              "                <dd><code>local[*]</code></dd>\n",
              "              <dt>AppName</dt>\n",
              "                <dd><code>practice</code></dd>\n",
              "            </dl>\n",
              "        </div>\n",
              "        \n",
              "            </div>\n",
              "        "
            ]
          },
          "metadata": {},
          "execution_count": 83
        }
      ]
    },
    {
      "cell_type": "code",
      "source": [
        "df=spark.read.option('header','true').csv(\"/content/data.csv\",inferSchema=True)"
      ],
      "metadata": {
        "id": "1baiqvoB9UKM"
      },
      "execution_count": null,
      "outputs": []
    },
    {
      "cell_type": "code",
      "source": [
        "df.show()"
      ],
      "metadata": {
        "colab": {
          "base_uri": "https://localhost:8080/"
        },
        "id": "SF58H1YL9mDr",
        "outputId": "125d64bc-2938-4ce4-a64f-a84f96d67265"
      },
      "execution_count": null,
      "outputs": [
        {
          "output_type": "stream",
          "name": "stdout",
          "text": [
            "+------+---+----------+\n",
            "| Name |Age|Experience|\n",
            "+------+---+----------+\n",
            "| Sneh | 21|         2|\n",
            "|Sapna | 20|         3|\n",
            "| Ajay | 45|         4|\n",
            "| Neha | 22|         5|\n",
            "| Ashu | 21|         6|\n",
            "|  Ishu| 21|         7|\n",
            "|  Aadi| 29|         8|\n",
            "+------+---+----------+\n",
            "\n"
          ]
        }
      ]
    },
    {
      "cell_type": "code",
      "source": [
        "df.printSchema()"
      ],
      "metadata": {
        "colab": {
          "base_uri": "https://localhost:8080/"
        },
        "id": "i0Gmrm_V9nG4",
        "outputId": "4e8d5f0e-07b6-4cdb-90ae-a819fb97a89b"
      },
      "execution_count": null,
      "outputs": [
        {
          "output_type": "stream",
          "name": "stdout",
          "text": [
            "root\n",
            " |-- Name : string (nullable = true)\n",
            " |-- Age: integer (nullable = true)\n",
            " |-- Experience: integer (nullable = true)\n",
            "\n"
          ]
        }
      ]
    },
    {
      "cell_type": "code",
      "source": [
        "df.columns"
      ],
      "metadata": {
        "colab": {
          "base_uri": "https://localhost:8080/"
        },
        "id": "4KnRzKel9-CP",
        "outputId": "cfe41760-4b15-4277-89d4-6d4fe8306b5f"
      },
      "execution_count": null,
      "outputs": [
        {
          "output_type": "execute_result",
          "data": {
            "text/plain": [
              "['Name ', 'Age', 'Experience']"
            ]
          },
          "metadata": {},
          "execution_count": 87
        }
      ]
    },
    {
      "cell_type": "code",
      "source": [
        "df.select(\"Age\").show()"
      ],
      "metadata": {
        "colab": {
          "base_uri": "https://localhost:8080/"
        },
        "id": "_jd1p28h-BwC",
        "outputId": "02755535-fda5-4993-aeca-0465316bd76b"
      },
      "execution_count": null,
      "outputs": [
        {
          "output_type": "stream",
          "name": "stdout",
          "text": [
            "+---+\n",
            "|Age|\n",
            "+---+\n",
            "| 21|\n",
            "| 20|\n",
            "| 45|\n",
            "| 22|\n",
            "| 21|\n",
            "| 21|\n",
            "| 29|\n",
            "+---+\n",
            "\n"
          ]
        }
      ]
    },
    {
      "cell_type": "code",
      "source": [
        "type(df.select(\"Age\"))"
      ],
      "metadata": {
        "colab": {
          "base_uri": "https://localhost:8080/"
        },
        "id": "vvsnj13G-PK_",
        "outputId": "127e903f-4592-43e7-c38c-76daa1e19976"
      },
      "execution_count": null,
      "outputs": [
        {
          "output_type": "execute_result",
          "data": {
            "text/plain": [
              "pyspark.sql.dataframe.DataFrame"
            ]
          },
          "metadata": {},
          "execution_count": 89
        }
      ]
    },
    {
      "cell_type": "code",
      "source": [
        "df.dtypes"
      ],
      "metadata": {
        "colab": {
          "base_uri": "https://localhost:8080/"
        },
        "id": "RiFgvzlVAe0E",
        "outputId": "357f6618-fa09-4980-dcdf-903b172a00e9"
      },
      "execution_count": null,
      "outputs": [
        {
          "output_type": "execute_result",
          "data": {
            "text/plain": [
              "[('Name ', 'string'), ('Age', 'int'), ('Experience', 'int')]"
            ]
          },
          "metadata": {},
          "execution_count": 90
        }
      ]
    },
    {
      "cell_type": "code",
      "source": [
        "df.describe().show()"
      ],
      "metadata": {
        "colab": {
          "base_uri": "https://localhost:8080/"
        },
        "id": "xlQji56ZAs7f",
        "outputId": "82ca4d59-30ec-46bd-f9bd-5465144de7b1"
      },
      "execution_count": null,
      "outputs": [
        {
          "output_type": "stream",
          "name": "stdout",
          "text": [
            "+-------+-----+------------------+-----------------+\n",
            "|summary|Name |               Age|       Experience|\n",
            "+-------+-----+------------------+-----------------+\n",
            "|  count|    7|                 7|                7|\n",
            "|   mean| null|25.571428571428573|              5.0|\n",
            "| stddev| null| 9.089502055616007|2.160246899469287|\n",
            "|    min| Aadi|                20|                2|\n",
            "|    max|Sneh |                45|                8|\n",
            "+-------+-----+------------------+-----------------+\n",
            "\n"
          ]
        }
      ]
    },
    {
      "cell_type": "code",
      "source": [
        "df=df.withColumn(\"Extra \",df['Experience']+2)"
      ],
      "metadata": {
        "id": "dTxaWSdmA4jV"
      },
      "execution_count": null,
      "outputs": []
    },
    {
      "cell_type": "code",
      "source": [
        "df.show()"
      ],
      "metadata": {
        "colab": {
          "base_uri": "https://localhost:8080/"
        },
        "id": "J0CHzMtLBM5J",
        "outputId": "9508d16e-78f0-483f-8532-6e6f93aa711a"
      },
      "execution_count": null,
      "outputs": [
        {
          "output_type": "stream",
          "name": "stdout",
          "text": [
            "+------+---+----------+------+\n",
            "| Name |Age|Experience|Extra |\n",
            "+------+---+----------+------+\n",
            "| Sneh | 21|         2|     4|\n",
            "|Sapna | 20|         3|     5|\n",
            "| Ajay | 45|         4|     6|\n",
            "| Neha | 22|         5|     7|\n",
            "| Ashu | 21|         6|     8|\n",
            "|  Ishu| 21|         7|     9|\n",
            "|  Aadi| 29|         8|    10|\n",
            "+------+---+----------+------+\n",
            "\n"
          ]
        }
      ]
    },
    {
      "cell_type": "code",
      "source": [
        "df=df.drop('Extra')"
      ],
      "metadata": {
        "id": "jlK4Ad7RBO5K"
      },
      "execution_count": null,
      "outputs": []
    },
    {
      "cell_type": "code",
      "source": [
        "df.show()"
      ],
      "metadata": {
        "colab": {
          "base_uri": "https://localhost:8080/"
        },
        "id": "Xw-aS6eZBWZ1",
        "outputId": "d949af5a-5d5f-4d50-82b3-11730d83a4e1"
      },
      "execution_count": null,
      "outputs": [
        {
          "output_type": "stream",
          "name": "stdout",
          "text": [
            "+------+-------+----------+------+\n",
            "| Name |New Age|Experience|Extra |\n",
            "+------+-------+----------+------+\n",
            "| Sneh |     21|         2|     4|\n",
            "|Sapna |     20|         3|     5|\n",
            "| Ajay |     45|         4|     6|\n",
            "| Neha |     22|         5|     7|\n",
            "| Ashu |     21|         6|     8|\n",
            "|  Ishu|     21|         7|     9|\n",
            "|  Aadi|     29|         8|    10|\n",
            "+------+-------+----------+------+\n",
            "\n"
          ]
        }
      ]
    },
    {
      "cell_type": "code",
      "source": [
        "df=df.withColumnRenamed('Age','New Age')"
      ],
      "metadata": {
        "id": "5ZE9cdH9Bbbc"
      },
      "execution_count": null,
      "outputs": []
    },
    {
      "cell_type": "code",
      "source": [
        "df.show()"
      ],
      "metadata": {
        "colab": {
          "base_uri": "https://localhost:8080/"
        },
        "id": "h8lBwF1nBuqF",
        "outputId": "61ab4c27-1e23-4efb-b6ed-8b48627dff12"
      },
      "execution_count": null,
      "outputs": [
        {
          "output_type": "stream",
          "name": "stdout",
          "text": [
            "+------+-------+----------+------+\n",
            "| Name |New Age|Experience|Extra |\n",
            "+------+-------+----------+------+\n",
            "| Sneh |     21|         2|     4|\n",
            "|Sapna |     20|         3|     5|\n",
            "| Ajay |     45|         4|     6|\n",
            "| Neha |     22|         5|     7|\n",
            "| Ashu |     21|         6|     8|\n",
            "|  Ishu|     21|         7|     9|\n",
            "|  Aadi|     29|         8|    10|\n",
            "+------+-------+----------+------+\n",
            "\n"
          ]
        }
      ]
    },
    {
      "cell_type": "markdown",
      "source": [
        "#Tute2"
      ],
      "metadata": {
        "id": "yAwOe1IVK6nP"
      }
    },
    {
      "cell_type": "code",
      "source": [
        "import pyspark"
      ],
      "metadata": {
        "id": "MZ_VaM1bLQ1f"
      },
      "execution_count": null,
      "outputs": []
    },
    {
      "cell_type": "code",
      "source": [
        "from pyspark.sql import SparkSession"
      ],
      "metadata": {
        "id": "7Yuh9mQOBzST"
      },
      "execution_count": null,
      "outputs": []
    },
    {
      "cell_type": "code",
      "source": [
        "spark=SparkSession.builder.appName('handlemissingvalue').getOrCreate()"
      ],
      "metadata": {
        "id": "o5AmqpM1LIcq"
      },
      "execution_count": null,
      "outputs": []
    },
    {
      "cell_type": "code",
      "source": [
        "spark"
      ],
      "metadata": {
        "colab": {
          "base_uri": "https://localhost:8080/",
          "height": 219
        },
        "id": "gYbrYA1QL7In",
        "outputId": "880bb1f1-994b-4142-c14c-f667d87fdd29"
      },
      "execution_count": null,
      "outputs": [
        {
          "output_type": "execute_result",
          "data": {
            "text/plain": [
              "<pyspark.sql.session.SparkSession at 0x7f746ea11c90>"
            ],
            "text/html": [
              "\n",
              "            <div>\n",
              "                <p><b>SparkSession - in-memory</b></p>\n",
              "                \n",
              "        <div>\n",
              "            <p><b>SparkContext</b></p>\n",
              "\n",
              "            <p><a href=\"http://72b54c85f308:4040\">Spark UI</a></p>\n",
              "\n",
              "            <dl>\n",
              "              <dt>Version</dt>\n",
              "                <dd><code>v3.3.0</code></dd>\n",
              "              <dt>Master</dt>\n",
              "                <dd><code>local[*]</code></dd>\n",
              "              <dt>AppName</dt>\n",
              "                <dd><code>handlemissingvalue</code></dd>\n",
              "            </dl>\n",
              "        </div>\n",
              "        \n",
              "            </div>\n",
              "        "
            ]
          },
          "metadata": {},
          "execution_count": 9
        }
      ]
    },
    {
      "cell_type": "code",
      "source": [
        "df=spark.read.csv(\"/content/data.csv\",header=True,inferSchema=True)"
      ],
      "metadata": {
        "id": "G-PBM_cgL9SG"
      },
      "execution_count": null,
      "outputs": []
    },
    {
      "cell_type": "code",
      "source": [
        "df.show()"
      ],
      "metadata": {
        "colab": {
          "base_uri": "https://localhost:8080/"
        },
        "id": "RjFv0b-CMnw-",
        "outputId": "d0c8c62c-69bb-4f09-db35-b75da57c22d4"
      },
      "execution_count": null,
      "outputs": [
        {
          "output_type": "stream",
          "name": "stdout",
          "text": [
            "+------+----+----------+------+\n",
            "| Name | Age|Experience|Saliry|\n",
            "+------+----+----------+------+\n",
            "| Sneh |  21|         2| 50000|\n",
            "|Sapna |  20|      null| 40000|\n",
            "| Ajay |  45|         4| 20000|\n",
            "| Neha |null|         5| 10000|\n",
            "| Ashu |  21|         6| 25000|\n",
            "|  Ishu|  21|         7|  null|\n",
            "|  Aadi|  29|         8| 35000|\n",
            "+------+----+----------+------+\n",
            "\n"
          ]
        }
      ]
    },
    {
      "cell_type": "code",
      "source": [
        "df.na.drop().show()"
      ],
      "metadata": {
        "colab": {
          "base_uri": "https://localhost:8080/"
        },
        "id": "-gjy2J4QMuk4",
        "outputId": "62de08a2-1939-4d68-f3b1-feb27017b11f"
      },
      "execution_count": null,
      "outputs": [
        {
          "output_type": "stream",
          "name": "stdout",
          "text": [
            "+-----+---+----------+------+\n",
            "|Name |Age|Experience|Saliry|\n",
            "+-----+---+----------+------+\n",
            "|Sneh | 21|         2| 50000|\n",
            "|Ajay | 45|         4| 20000|\n",
            "|Ashu | 21|         6| 25000|\n",
            "| Aadi| 29|         8| 35000|\n",
            "+-----+---+----------+------+\n",
            "\n"
          ]
        }
      ]
    },
    {
      "cell_type": "code",
      "source": [
        "df.show()"
      ],
      "metadata": {
        "colab": {
          "base_uri": "https://localhost:8080/"
        },
        "id": "ZUDIozddM7FX",
        "outputId": "f381e5a3-5e8c-47b9-bcd0-92b7e59ab65a"
      },
      "execution_count": null,
      "outputs": [
        {
          "output_type": "stream",
          "name": "stdout",
          "text": [
            "+------+----+----------+------+\n",
            "| Name | Age|Experience|Saliry|\n",
            "+------+----+----------+------+\n",
            "| Sneh |  21|         2| 50000|\n",
            "|Sapna |  20|      null| 40000|\n",
            "| Ajay |  45|         4| 20000|\n",
            "| Neha |null|         5| 10000|\n",
            "| Ashu |  21|         6| 25000|\n",
            "|  Ishu|  21|         7|  null|\n",
            "|  Aadi|  29|         8| 35000|\n",
            "+------+----+----------+------+\n",
            "\n"
          ]
        }
      ]
    },
    {
      "cell_type": "code",
      "source": [
        "df.na.drop(how=\"all\").show()"
      ],
      "metadata": {
        "colab": {
          "base_uri": "https://localhost:8080/"
        },
        "id": "yatPk6ssM9m3",
        "outputId": "46306b01-f92b-42b7-d672-1d8041ab6ce6"
      },
      "execution_count": null,
      "outputs": [
        {
          "output_type": "stream",
          "name": "stdout",
          "text": [
            "+------+----+----------+------+\n",
            "| Name | Age|Experience|Saliry|\n",
            "+------+----+----------+------+\n",
            "| Sneh |  21|         2| 50000|\n",
            "|Sapna |  20|      null| 40000|\n",
            "| Ajay |  45|         4| 20000|\n",
            "| Neha |null|         5| 10000|\n",
            "| Ashu |  21|         6| 25000|\n",
            "|  Ishu|  21|         7|  null|\n",
            "|  Aadi|  29|         8| 35000|\n",
            "+------+----+----------+------+\n",
            "\n"
          ]
        }
      ]
    },
    {
      "cell_type": "code",
      "source": [
        "df.na.drop(how=\"any\",thresh=1).show()"
      ],
      "metadata": {
        "colab": {
          "base_uri": "https://localhost:8080/"
        },
        "id": "fo-5YCQdNGdH",
        "outputId": "f18522c0-1fcf-4ee7-e488-0b1d95eb5917"
      },
      "execution_count": null,
      "outputs": [
        {
          "output_type": "stream",
          "name": "stdout",
          "text": [
            "+------+----+----------+------+\n",
            "| Name | Age|Experience|Saliry|\n",
            "+------+----+----------+------+\n",
            "| Sneh |  21|         2| 50000|\n",
            "|Sapna |  20|      null| 40000|\n",
            "| Ajay |  45|         4| 20000|\n",
            "| Neha |null|         5| 10000|\n",
            "| Ashu |  21|         6| 25000|\n",
            "|  Ishu|  21|         7|  null|\n",
            "|  Aadi|  29|         8| 35000|\n",
            "+------+----+----------+------+\n",
            "\n"
          ]
        }
      ]
    },
    {
      "cell_type": "code",
      "source": [
        "df.na.drop(how=\"any\",subset=['Experience']).show()"
      ],
      "metadata": {
        "colab": {
          "base_uri": "https://localhost:8080/"
        },
        "id": "3cZnmdgNNQpX",
        "outputId": "bb958602-bdc0-46ce-a942-ed90389f57eb"
      },
      "execution_count": null,
      "outputs": [
        {
          "output_type": "stream",
          "name": "stdout",
          "text": [
            "+-----+----+----------+------+\n",
            "|Name | Age|Experience|Saliry|\n",
            "+-----+----+----------+------+\n",
            "|Sneh |  21|         2| 50000|\n",
            "|Ajay |  45|         4| 20000|\n",
            "|Neha |null|         5| 10000|\n",
            "|Ashu |  21|         6| 25000|\n",
            "| Ishu|  21|         7|  null|\n",
            "| Aadi|  29|         8| 35000|\n",
            "+-----+----+----------+------+\n",
            "\n"
          ]
        }
      ]
    },
    {
      "cell_type": "markdown",
      "source": [
        "fill"
      ],
      "metadata": {
        "id": "nzc2TH8gNoBP"
      }
    },
    {
      "cell_type": "code",
      "source": [
        "df.na.fill(\"missing \",[\"Age\",\"Experience\",\"Saliry\"]).show()"
      ],
      "metadata": {
        "colab": {
          "base_uri": "https://localhost:8080/"
        },
        "id": "1z2Qff_9Nj8W",
        "outputId": "a41831a6-13da-4c84-897f-d602780ec154"
      },
      "execution_count": null,
      "outputs": [
        {
          "output_type": "stream",
          "name": "stdout",
          "text": [
            "+------+----+----------+------+\n",
            "| Name | Age|Experience|Saliry|\n",
            "+------+----+----------+------+\n",
            "| Sneh |  21|         2| 50000|\n",
            "|Sapna |  20|      null| 40000|\n",
            "| Ajay |  45|         4| 20000|\n",
            "| Neha |null|         5| 10000|\n",
            "| Ashu |  21|         6| 25000|\n",
            "|  Ishu|  21|         7|  null|\n",
            "|  Aadi|  29|         8| 35000|\n",
            "+------+----+----------+------+\n",
            "\n"
          ]
        }
      ]
    },
    {
      "cell_type": "code",
      "source": [
        "from pyspark.ml.feature import Imputer"
      ],
      "metadata": {
        "id": "u61s14BtN0yn"
      },
      "execution_count": null,
      "outputs": []
    },
    {
      "cell_type": "code",
      "source": [
        "imputer=Imputer(inputCols=['Age','Experience','Saliry'],\n",
        "                outputCols=[\"{} _imputed\".format(c) for c in [\"Age\",\"Experience\",\"Saliry\"]]).setStrategy(\"mode\")"
      ],
      "metadata": {
        "id": "SpH09ChiOLIq"
      },
      "execution_count": null,
      "outputs": []
    },
    {
      "cell_type": "code",
      "source": [
        "imputer.fit(df).transform(df).show()"
      ],
      "metadata": {
        "colab": {
          "base_uri": "https://localhost:8080/"
        },
        "id": "9kPXsTpxPJvr",
        "outputId": "33a723bb-cd20-4e6f-cb29-65888bd17efb"
      },
      "execution_count": null,
      "outputs": [
        {
          "output_type": "stream",
          "name": "stdout",
          "text": [
            "+------+----+----------+------+------------+-------------------+---------------+\n",
            "| Name | Age|Experience|Saliry|Age _imputed|Experience _imputed|Saliry _imputed|\n",
            "+------+----+----------+------+------------+-------------------+---------------+\n",
            "| Sneh |  21|         2| 50000|          21|                  2|          50000|\n",
            "|Sapna |  20|      null| 40000|          20|                  2|          40000|\n",
            "| Ajay |  45|         4| 20000|          45|                  4|          20000|\n",
            "| Neha |null|         5| 10000|          21|                  5|          10000|\n",
            "| Ashu |  21|         6| 25000|          21|                  6|          25000|\n",
            "|  Ishu|  21|         7|  null|          21|                  7|          10000|\n",
            "|  Aadi|  29|         8| 35000|          29|                  8|          35000|\n",
            "+------+----+----------+------+------------+-------------------+---------------+\n",
            "\n"
          ]
        }
      ]
    },
    {
      "cell_type": "markdown",
      "source": [
        "# tute 3 fillter Operation"
      ],
      "metadata": {
        "id": "P-CbgpXHUPKs"
      }
    },
    {
      "cell_type": "code",
      "source": [
        "import pyspark"
      ],
      "metadata": {
        "id": "ZQiL2sW6R7LL"
      },
      "execution_count": null,
      "outputs": []
    },
    {
      "cell_type": "code",
      "source": [
        "from pyspark.sql import SparkSession"
      ],
      "metadata": {
        "id": "DMsDkD4yUxdq"
      },
      "execution_count": null,
      "outputs": []
    },
    {
      "cell_type": "code",
      "source": [
        "spark=SparkSession.builder.appName(\"Filter\").getOrCreate()"
      ],
      "metadata": {
        "id": "ETeGmhmeU8tV"
      },
      "execution_count": null,
      "outputs": []
    },
    {
      "cell_type": "code",
      "source": [
        "spark"
      ],
      "metadata": {
        "colab": {
          "base_uri": "https://localhost:8080/",
          "height": 219
        },
        "id": "amAqwnncVQi1",
        "outputId": "31061b56-1fdd-40d4-a2ff-f6161fcabd54"
      },
      "execution_count": null,
      "outputs": [
        {
          "output_type": "execute_result",
          "data": {
            "text/plain": [
              "<pyspark.sql.session.SparkSession at 0x7f746ea11c90>"
            ],
            "text/html": [
              "\n",
              "            <div>\n",
              "                <p><b>SparkSession - in-memory</b></p>\n",
              "                \n",
              "        <div>\n",
              "            <p><b>SparkContext</b></p>\n",
              "\n",
              "            <p><a href=\"http://72b54c85f308:4040\">Spark UI</a></p>\n",
              "\n",
              "            <dl>\n",
              "              <dt>Version</dt>\n",
              "                <dd><code>v3.3.0</code></dd>\n",
              "              <dt>Master</dt>\n",
              "                <dd><code>local[*]</code></dd>\n",
              "              <dt>AppName</dt>\n",
              "                <dd><code>handlemissingvalue</code></dd>\n",
              "            </dl>\n",
              "        </div>\n",
              "        \n",
              "            </div>\n",
              "        "
            ]
          },
          "metadata": {},
          "execution_count": 33
        }
      ]
    },
    {
      "cell_type": "code",
      "source": [
        "df=spark.read.csv(\"/content/data.csv\",header=True,inferSchema=True)"
      ],
      "metadata": {
        "id": "1VkfiAF0VR63"
      },
      "execution_count": null,
      "outputs": []
    },
    {
      "cell_type": "code",
      "source": [
        "df.show()"
      ],
      "metadata": {
        "colab": {
          "base_uri": "https://localhost:8080/"
        },
        "id": "2MaHDWw4VhBo",
        "outputId": "0e437a33-6b92-4a88-fa97-f10b0fc14145"
      },
      "execution_count": null,
      "outputs": [
        {
          "output_type": "stream",
          "name": "stdout",
          "text": [
            "+------+---+----------+------+\n",
            "| Name |Age|Experience|Saliry|\n",
            "+------+---+----------+------+\n",
            "| Sneh | 21|         2| 50000|\n",
            "|Sapna | 20|         3| 40000|\n",
            "| Ajay | 45|         4| 20000|\n",
            "| Neha | 22|         5| 10000|\n",
            "| Ashu | 21|         6| 25000|\n",
            "|  Ishu| 21|         7| 19000|\n",
            "|  Aadi| 29|         8| 35000|\n",
            "+------+---+----------+------+\n",
            "\n"
          ]
        }
      ]
    },
    {
      "cell_type": "code",
      "source": [
        "df.filter(\"Saliry>=20000\").show()"
      ],
      "metadata": {
        "colab": {
          "base_uri": "https://localhost:8080/"
        },
        "id": "pvBP1RmNVitl",
        "outputId": "93b98217-7b49-4832-f179-340bdf33028e"
      },
      "execution_count": null,
      "outputs": [
        {
          "output_type": "stream",
          "name": "stdout",
          "text": [
            "+------+---+----------+------+\n",
            "| Name |Age|Experience|Saliry|\n",
            "+------+---+----------+------+\n",
            "| Sneh | 21|         2| 50000|\n",
            "|Sapna | 20|         3| 40000|\n",
            "| Ajay | 45|         4| 20000|\n",
            "| Ashu | 21|         6| 25000|\n",
            "|  Aadi| 29|         8| 35000|\n",
            "+------+---+----------+------+\n",
            "\n"
          ]
        }
      ]
    },
    {
      "cell_type": "code",
      "source": [
        "df.filter(\"Saliry>=20000\").select([\"Name \", \"Age\"]).show()"
      ],
      "metadata": {
        "colab": {
          "base_uri": "https://localhost:8080/"
        },
        "id": "KI-EcryAVuvU",
        "outputId": "e2e403d0-88db-4e5a-b2b9-d2aa458931f4"
      },
      "execution_count": null,
      "outputs": [
        {
          "output_type": "stream",
          "name": "stdout",
          "text": [
            "+------+---+\n",
            "| Name |Age|\n",
            "+------+---+\n",
            "| Sneh | 21|\n",
            "|Sapna | 20|\n",
            "| Ajay | 45|\n",
            "| Ashu | 21|\n",
            "|  Aadi| 29|\n",
            "+------+---+\n",
            "\n"
          ]
        }
      ]
    },
    {
      "cell_type": "code",
      "source": [
        "df.filter((df[\"Saliry\"]<=20000) & (df[\"Saliry\"]>=15000)).show()"
      ],
      "metadata": {
        "colab": {
          "base_uri": "https://localhost:8080/"
        },
        "id": "fO8y2Qu2WJhx",
        "outputId": "b0c758d4-3d44-43c0-8435-4a020ae16110"
      },
      "execution_count": null,
      "outputs": [
        {
          "output_type": "stream",
          "name": "stdout",
          "text": [
            "+-----+---+----------+------+\n",
            "|Name |Age|Experience|Saliry|\n",
            "+-----+---+----------+------+\n",
            "|Ajay | 45|         4| 20000|\n",
            "| Ishu| 21|         7| 19000|\n",
            "+-----+---+----------+------+\n",
            "\n"
          ]
        }
      ]
    },
    {
      "cell_type": "code",
      "source": [
        "df.filter((\"Saliry>=20000\")).show()"
      ],
      "metadata": {
        "colab": {
          "base_uri": "https://localhost:8080/"
        },
        "id": "1HB_5rNOWZK7",
        "outputId": "9428de02-2685-4f41-d6ab-877591f6abba"
      },
      "execution_count": null,
      "outputs": [
        {
          "output_type": "stream",
          "name": "stdout",
          "text": [
            "+------+---+----------+------+\n",
            "| Name |Age|Experience|Saliry|\n",
            "+------+---+----------+------+\n",
            "| Sneh | 21|         2| 50000|\n",
            "|Sapna | 20|         3| 40000|\n",
            "| Ajay | 45|         4| 20000|\n",
            "| Ashu | 21|         6| 25000|\n",
            "|  Aadi| 29|         8| 35000|\n",
            "+------+---+----------+------+\n",
            "\n"
          ]
        }
      ]
    },
    {
      "cell_type": "markdown",
      "source": [
        "# tute 4 aggrigate Functon"
      ],
      "metadata": {
        "id": "Hnas7dCEglEj"
      }
    },
    {
      "cell_type": "code",
      "source": [
        "df_s=spark.read.csv(\"/content/data_sneh.csv\",header=True,inferSchema=True)"
      ],
      "metadata": {
        "id": "TOK4YgZ0XF-2"
      },
      "execution_count": null,
      "outputs": []
    },
    {
      "cell_type": "code",
      "source": [
        "df_s.show()"
      ],
      "metadata": {
        "colab": {
          "base_uri": "https://localhost:8080/"
        },
        "id": "mxbUTK-zgyjV",
        "outputId": "af501080-5aca-4d56-a151-1ea1bdeb3b0b"
      },
      "execution_count": null,
      "outputs": [
        {
          "output_type": "stream",
          "name": "stdout",
          "text": [
            "+------+-------+------+\n",
            "| Name |   Dept|Saliry|\n",
            "+------+-------+------+\n",
            "| Sneh |    cse| 50000|\n",
            "|Sapna |bigdata| 40000|\n",
            "| Ajay |     ds| 20000|\n",
            "| Neha |    cse| 10000|\n",
            "| Ashu |     ds| 25000|\n",
            "|  Ishu|     se| 19000|\n",
            "|  Aadi|bigdata| 35000|\n",
            "+------+-------+------+\n",
            "\n"
          ]
        }
      ]
    },
    {
      "cell_type": "code",
      "source": [
        "df_s.groupBy(\"Name \").sum().show()"
      ],
      "metadata": {
        "colab": {
          "base_uri": "https://localhost:8080/"
        },
        "id": "6DCZmX3Vg1sC",
        "outputId": "f43e5672-576a-4243-8098-60effc7eb3bf"
      },
      "execution_count": null,
      "outputs": [
        {
          "output_type": "stream",
          "name": "stdout",
          "text": [
            "+------+-----------+\n",
            "| Name |sum(Saliry)|\n",
            "+------+-----------+\n",
            "| Sneh |      50000|\n",
            "| Ajay |      20000|\n",
            "|Sapna |      40000|\n",
            "|  Aadi|      35000|\n",
            "|  Ishu|      19000|\n",
            "| Neha |      10000|\n",
            "| Ashu |      25000|\n",
            "+------+-----------+\n",
            "\n"
          ]
        }
      ]
    },
    {
      "cell_type": "code",
      "source": [
        "df_s.groupBy(\"Dept\").sum().show()"
      ],
      "metadata": {
        "colab": {
          "base_uri": "https://localhost:8080/"
        },
        "id": "ltdIddz-hC4S",
        "outputId": "8836b3d7-abc7-4111-8861-ddbc71fa1354"
      },
      "execution_count": null,
      "outputs": [
        {
          "output_type": "stream",
          "name": "stdout",
          "text": [
            "+-------+-----------+\n",
            "|   Dept|sum(Saliry)|\n",
            "+-------+-----------+\n",
            "|     ds|      45000|\n",
            "|bigdata|      75000|\n",
            "|    cse|      60000|\n",
            "|     se|      19000|\n",
            "+-------+-----------+\n",
            "\n"
          ]
        }
      ]
    },
    {
      "cell_type": "code",
      "source": [],
      "metadata": {
        "id": "v9guC68UhXqC"
      },
      "execution_count": null,
      "outputs": []
    },
    {
      "cell_type": "markdown",
      "source": [
        "# tute 5 ml"
      ],
      "metadata": {
        "id": "aoV8q2j02wM3"
      }
    },
    {
      "cell_type": "code",
      "source": [
        "from pyspark.sql import SparkSession"
      ],
      "metadata": {
        "id": "S0mpV_Rz21uS"
      },
      "execution_count": null,
      "outputs": []
    },
    {
      "cell_type": "code",
      "source": [
        "spark=SparkSession.builder.appName(\"ml pr\").getOrCreate()"
      ],
      "metadata": {
        "id": "OjzkdSiO3A7I"
      },
      "execution_count": null,
      "outputs": []
    },
    {
      "cell_type": "code",
      "source": [
        "training=spark.read.csv(\"/content/data.csv\",header=True,inferSchema=True)"
      ],
      "metadata": {
        "id": "V0ykglG03Krm"
      },
      "execution_count": null,
      "outputs": []
    },
    {
      "cell_type": "code",
      "source": [
        "training.show()"
      ],
      "metadata": {
        "colab": {
          "base_uri": "https://localhost:8080/"
        },
        "id": "LMSgT4We3cqH",
        "outputId": "539b5227-d938-4992-9c29-49c0f2d83140"
      },
      "execution_count": null,
      "outputs": [
        {
          "output_type": "stream",
          "name": "stdout",
          "text": [
            "+-------+---+----------+------+\n",
            "|  Name |Age|Experience|Saliry|\n",
            "+-------+---+----------+------+\n",
            "|  Sneh | 21|         2| 50000|\n",
            "| Sapna | 20|         3| 40000|\n",
            "|  Ajay | 45|         4| 20000|\n",
            "|  Neha | 22|         5| 10000|\n",
            "|  Ashu | 21|         6| 25000|\n",
            "|   Ishu| 21|         7| 19000|\n",
            "|   Aadi| 29|         8| 35000|\n",
            "|  silvi| 22|         3| 45000|\n",
            "|shristi| 22|         4| 35000|\n",
            "|  vasu | 23|         5| 40000|\n",
            "+-------+---+----------+------+\n",
            "\n"
          ]
        }
      ]
    },
    {
      "cell_type": "code",
      "source": [
        "training.show()"
      ],
      "metadata": {
        "colab": {
          "base_uri": "https://localhost:8080/"
        },
        "id": "AZbF53jw3g73",
        "outputId": "738591b8-fbf0-4c8d-9ddb-700caa7da541"
      },
      "execution_count": null,
      "outputs": [
        {
          "output_type": "stream",
          "name": "stdout",
          "text": [
            "+-------+---+----------+------+\n",
            "|  Name |Age|Experience|Saliry|\n",
            "+-------+---+----------+------+\n",
            "|  Sneh | 21|         2| 50000|\n",
            "| Sapna | 20|         3| 40000|\n",
            "|  Ajay | 45|         4| 20000|\n",
            "|  Neha | 22|         5| 10000|\n",
            "|  Ashu | 21|         6| 25000|\n",
            "|   Ishu| 21|         7| 19000|\n",
            "|   Aadi| 29|         8| 35000|\n",
            "|  silvi| 22|         3| 45000|\n",
            "|shristi| 22|         4| 35000|\n",
            "|  vasu | 23|         5| 40000|\n",
            "+-------+---+----------+------+\n",
            "\n"
          ]
        }
      ]
    },
    {
      "cell_type": "code",
      "source": [
        "training.printSchema()"
      ],
      "metadata": {
        "colab": {
          "base_uri": "https://localhost:8080/"
        },
        "id": "jSTbX-tV4TTX",
        "outputId": "f2a59256-5829-429f-d190-b125a9679272"
      },
      "execution_count": null,
      "outputs": [
        {
          "output_type": "stream",
          "name": "stdout",
          "text": [
            "root\n",
            " |-- Name : string (nullable = true)\n",
            " |-- Age: integer (nullable = true)\n",
            " |-- Experience: integer (nullable = true)\n",
            " |-- Saliry: integer (nullable = true)\n",
            "\n"
          ]
        }
      ]
    },
    {
      "cell_type": "code",
      "source": [
        "training.columns"
      ],
      "metadata": {
        "colab": {
          "base_uri": "https://localhost:8080/"
        },
        "id": "wcB9kmMV4Xwn",
        "outputId": "98d952f2-cad0-44c4-8d54-a020c8718d96"
      },
      "execution_count": null,
      "outputs": [
        {
          "output_type": "execute_result",
          "data": {
            "text/plain": [
              "['Name ', 'Age', 'Experience', 'Saliry']"
            ]
          },
          "metadata": {},
          "execution_count": 14
        }
      ]
    },
    {
      "cell_type": "code",
      "source": [
        "from pyspark.ml.feature import VectorAssembler"
      ],
      "metadata": {
        "id": "FyLyRN4N4cm6"
      },
      "execution_count": null,
      "outputs": []
    },
    {
      "cell_type": "code",
      "source": [
        "featureassembler=VectorAssembler(inputCols=['Age','Experience'],outputCol='Indepent Features')"
      ],
      "metadata": {
        "id": "1yqYQOKA4nCW"
      },
      "execution_count": null,
      "outputs": []
    },
    {
      "cell_type": "code",
      "source": [
        "output=featureassembler.transform(training)"
      ],
      "metadata": {
        "id": "o3nNQhH048_m"
      },
      "execution_count": null,
      "outputs": []
    },
    {
      "cell_type": "code",
      "source": [
        "output.show()"
      ],
      "metadata": {
        "colab": {
          "base_uri": "https://localhost:8080/"
        },
        "id": "8L7QQdhN5Gw1",
        "outputId": "6c99d032-ef3d-40b8-c73e-13e07848c61c"
      },
      "execution_count": null,
      "outputs": [
        {
          "output_type": "stream",
          "name": "stdout",
          "text": [
            "+-------+---+----------+------+-----------------+\n",
            "|  Name |Age|Experience|Saliry|Indepent Features|\n",
            "+-------+---+----------+------+-----------------+\n",
            "|  Sneh | 21|         2| 50000|       [21.0,2.0]|\n",
            "| Sapna | 20|         3| 40000|       [20.0,3.0]|\n",
            "|  Ajay | 45|         4| 20000|       [45.0,4.0]|\n",
            "|  Neha | 22|         5| 10000|       [22.0,5.0]|\n",
            "|  Ashu | 21|         6| 25000|       [21.0,6.0]|\n",
            "|   Ishu| 21|         7| 19000|       [21.0,7.0]|\n",
            "|   Aadi| 29|         8| 35000|       [29.0,8.0]|\n",
            "|  silvi| 22|         3| 45000|       [22.0,3.0]|\n",
            "|shristi| 22|         4| 35000|       [22.0,4.0]|\n",
            "|  vasu | 23|         5| 40000|       [23.0,5.0]|\n",
            "+-------+---+----------+------+-----------------+\n",
            "\n"
          ]
        }
      ]
    },
    {
      "cell_type": "code",
      "source": [
        "f_data=output.select('Indepent Features','Saliry')"
      ],
      "metadata": {
        "id": "SkRHNBTK5JAW"
      },
      "execution_count": null,
      "outputs": []
    },
    {
      "cell_type": "code",
      "source": [
        "f_data.show()\n"
      ],
      "metadata": {
        "colab": {
          "base_uri": "https://localhost:8080/"
        },
        "id": "mzWXzomD5bZm",
        "outputId": "e681acec-e4fc-4f72-bd82-ab3d03519d75"
      },
      "execution_count": null,
      "outputs": [
        {
          "output_type": "stream",
          "name": "stdout",
          "text": [
            "+-----------------+------+\n",
            "|Indepent Features|Saliry|\n",
            "+-----------------+------+\n",
            "|       [21.0,2.0]| 50000|\n",
            "|       [20.0,3.0]| 40000|\n",
            "|       [45.0,4.0]| 20000|\n",
            "|       [22.0,5.0]| 10000|\n",
            "|       [21.0,6.0]| 25000|\n",
            "|       [21.0,7.0]| 19000|\n",
            "|       [29.0,8.0]| 35000|\n",
            "|       [22.0,3.0]| 45000|\n",
            "|       [22.0,4.0]| 35000|\n",
            "|       [23.0,5.0]| 40000|\n",
            "+-----------------+------+\n",
            "\n"
          ]
        }
      ]
    },
    {
      "cell_type": "code",
      "source": [
        "from pyspark.ml.regression import LinearRegression\n",
        "train,test=f_data.randomSplit([0.70,0.30])\n",
        "ress=LinearRegression(featuresCol='Indepent Features',labelCol='Saliry')\n",
        "ress=ress.fit(train)"
      ],
      "metadata": {
        "id": "Pq8dHbNZ5dyW"
      },
      "execution_count": null,
      "outputs": []
    },
    {
      "cell_type": "code",
      "source": [
        "ress.coefficients"
      ],
      "metadata": {
        "colab": {
          "base_uri": "https://localhost:8080/"
        },
        "id": "TKFtE1VA6KXq",
        "outputId": "ed4c6e9a-9f0f-4424-c927-d4ea4b1b2589"
      },
      "execution_count": null,
      "outputs": [
        {
          "output_type": "execute_result",
          "data": {
            "text/plain": [
              "DenseVector([3426.8293, -6772.9831])"
            ]
          },
          "metadata": {},
          "execution_count": 25
        }
      ]
    },
    {
      "cell_type": "code",
      "source": [
        "ress.intercept"
      ],
      "metadata": {
        "colab": {
          "base_uri": "https://localhost:8080/"
        },
        "id": "MHoWr3xG7HcF",
        "outputId": "af4db126-617a-427e-9a8e-2025c8530a9a"
      },
      "execution_count": null,
      "outputs": [
        {
          "output_type": "execute_result",
          "data": {
            "text/plain": [
              "-11476.547842401123"
            ]
          },
          "metadata": {},
          "execution_count": 26
        }
      ]
    },
    {
      "cell_type": "code",
      "source": [
        "pred=ress.evaluate(test)"
      ],
      "metadata": {
        "id": "GVow9c3f7Kl3"
      },
      "execution_count": null,
      "outputs": []
    },
    {
      "cell_type": "code",
      "source": [
        "pred"
      ],
      "metadata": {
        "colab": {
          "base_uri": "https://localhost:8080/"
        },
        "id": "ziS3PqdB7TXq",
        "outputId": "89af60c9-41dd-402e-c98c-2be9fd0d441d"
      },
      "execution_count": null,
      "outputs": [
        {
          "output_type": "execute_result",
          "data": {
            "text/plain": [
              "<pyspark.ml.regression.LinearRegressionSummary at 0x7f357dfd6910>"
            ]
          },
          "metadata": {},
          "execution_count": 28
        }
      ]
    },
    {
      "cell_type": "code",
      "source": [
        "pred.predictions.show()"
      ],
      "metadata": {
        "colab": {
          "base_uri": "https://localhost:8080/"
        },
        "id": "ZTV0-5317VHb",
        "outputId": "9781fc2a-179c-40b2-c52d-2dbed2344776"
      },
      "execution_count": null,
      "outputs": [
        {
          "output_type": "stream",
          "name": "stdout",
          "text": [
            "+-----------------+------+------------------+\n",
            "|Indepent Features|Saliry|        prediction|\n",
            "+-----------------+------+------------------+\n",
            "|       [21.0,6.0]| 25000|19848.968105065695|\n",
            "|       [22.0,3.0]| 45000| 43594.74671669793|\n",
            "|       [22.0,4.0]| 35000|36821.763602251405|\n",
            "|       [45.0,4.0]| 20000|115638.83677298272|\n",
            "+-----------------+------+------------------+\n",
            "\n"
          ]
        }
      ]
    },
    {
      "cell_type": "markdown",
      "source": [
        "# Tute6"
      ],
      "metadata": {
        "id": "WdP8cTtw7tQO"
      }
    },
    {
      "cell_type": "code",
      "source": [
        "from pyspark.sql import SparkSession"
      ],
      "metadata": {
        "id": "KlVzuWg27kWG"
      },
      "execution_count": 5,
      "outputs": []
    },
    {
      "cell_type": "code",
      "source": [
        "spark=SparkSession.builder.appName(\"LRALGo\").getOrCreate()"
      ],
      "metadata": {
        "id": "DBgRV2LoZUaO"
      },
      "execution_count": 6,
      "outputs": []
    },
    {
      "cell_type": "code",
      "source": [
        "spark"
      ],
      "metadata": {
        "colab": {
          "base_uri": "https://localhost:8080/",
          "height": 219
        },
        "id": "sYMi-EXPZiK9",
        "outputId": "07f48138-ecde-4ced-c7d2-14aee2aef3ea"
      },
      "execution_count": 7,
      "outputs": [
        {
          "output_type": "execute_result",
          "data": {
            "text/plain": [
              "<pyspark.sql.session.SparkSession at 0x7fe3d2a01c10>"
            ],
            "text/html": [
              "\n",
              "            <div>\n",
              "                <p><b>SparkSession - in-memory</b></p>\n",
              "                \n",
              "        <div>\n",
              "            <p><b>SparkContext</b></p>\n",
              "\n",
              "            <p><a href=\"http://018c568c3c81:4040\">Spark UI</a></p>\n",
              "\n",
              "            <dl>\n",
              "              <dt>Version</dt>\n",
              "                <dd><code>v3.3.0</code></dd>\n",
              "              <dt>Master</dt>\n",
              "                <dd><code>local[*]</code></dd>\n",
              "              <dt>AppName</dt>\n",
              "                <dd><code>LRALGo</code></dd>\n",
              "            </dl>\n",
              "        </div>\n",
              "        \n",
              "            </div>\n",
              "        "
            ]
          },
          "metadata": {},
          "execution_count": 7
        }
      ]
    },
    {
      "cell_type": "code",
      "source": [
        "df=spark.read.csv(\"/content/tips.csv\",header=True,inferSchema=True)"
      ],
      "metadata": {
        "id": "S0ldCIzgZlCh"
      },
      "execution_count": 8,
      "outputs": []
    },
    {
      "cell_type": "code",
      "source": [
        "df.show()"
      ],
      "metadata": {
        "colab": {
          "base_uri": "https://localhost:8080/"
        },
        "id": "u7JUqxuEaMax",
        "outputId": "4c3d4c2d-b9db-471c-dce6-916327a28dee"
      },
      "execution_count": 9,
      "outputs": [
        {
          "output_type": "stream",
          "name": "stdout",
          "text": [
            "+----------+----+------+------+---+------+----+\n",
            "|total_bill| tip|   sex|smoker|day|  time|size|\n",
            "+----------+----+------+------+---+------+----+\n",
            "|     16.99|1.01|Female|    No|Sun|Dinner|   2|\n",
            "|     10.34|1.66|  Male|    No|Sun|Dinner|   3|\n",
            "|     21.01| 3.5|  Male|    No|Sun|Dinner|   3|\n",
            "|     23.68|3.31|  Male|    No|Sun|Dinner|   2|\n",
            "|     24.59|3.61|Female|    No|Sun|Dinner|   4|\n",
            "|     25.29|4.71|  Male|    No|Sun|Dinner|   4|\n",
            "|      8.77| 2.0|  Male|    No|Sun|Dinner|   2|\n",
            "|     26.88|3.12|  Male|    No|Sun|Dinner|   4|\n",
            "|     15.04|1.96|  Male|    No|Sun|Dinner|   2|\n",
            "|     14.78|3.23|  Male|    No|Sun|Dinner|   2|\n",
            "|     10.27|1.71|  Male|    No|Sun|Dinner|   2|\n",
            "|     35.26| 5.0|Female|    No|Sun|Dinner|   4|\n",
            "|     15.42|1.57|  Male|    No|Sun|Dinner|   2|\n",
            "|     18.43| 3.0|  Male|    No|Sun|Dinner|   4|\n",
            "|     14.83|3.02|Female|    No|Sun|Dinner|   2|\n",
            "|     21.58|3.92|  Male|    No|Sun|Dinner|   2|\n",
            "|     10.33|1.67|Female|    No|Sun|Dinner|   3|\n",
            "|     16.29|3.71|  Male|    No|Sun|Dinner|   3|\n",
            "|     16.97| 3.5|Female|    No|Sun|Dinner|   3|\n",
            "|     20.65|3.35|  Male|    No|Sat|Dinner|   3|\n",
            "+----------+----+------+------+---+------+----+\n",
            "only showing top 20 rows\n",
            "\n"
          ]
        }
      ]
    },
    {
      "cell_type": "code",
      "source": [
        "df.printSchema()"
      ],
      "metadata": {
        "colab": {
          "base_uri": "https://localhost:8080/"
        },
        "id": "UlXypeDtafsc",
        "outputId": "8fa81e94-9bf4-4bcd-ca9d-fb24bf5a50aa"
      },
      "execution_count": 10,
      "outputs": [
        {
          "output_type": "stream",
          "name": "stdout",
          "text": [
            "root\n",
            " |-- total_bill: double (nullable = true)\n",
            " |-- tip: double (nullable = true)\n",
            " |-- sex: string (nullable = true)\n",
            " |-- smoker: string (nullable = true)\n",
            " |-- day: string (nullable = true)\n",
            " |-- time: string (nullable = true)\n",
            " |-- size: integer (nullable = true)\n",
            "\n"
          ]
        }
      ]
    },
    {
      "cell_type": "code",
      "source": [
        "df.columns"
      ],
      "metadata": {
        "colab": {
          "base_uri": "https://localhost:8080/"
        },
        "id": "SRLs7nH6azjc",
        "outputId": "e72aa122-7b25-409d-8a4d-c69f4d666d97"
      },
      "execution_count": 11,
      "outputs": [
        {
          "output_type": "execute_result",
          "data": {
            "text/plain": [
              "['total_bill', 'tip', 'sex', 'smoker', 'day', 'time', 'size']"
            ]
          },
          "metadata": {},
          "execution_count": 11
        }
      ]
    },
    {
      "cell_type": "code",
      "source": [
        "from pyspark.ml.feature import StringIndexer"
      ],
      "metadata": {
        "id": "BAtBJEqra1W8"
      },
      "execution_count": 12,
      "outputs": []
    },
    {
      "cell_type": "code",
      "source": [
        "index=StringIndexer(inputCols=['sex','smoker','day','time'],outputCols=['sex_in','smoker_in','day_in','time_in'])"
      ],
      "metadata": {
        "id": "8pcJ3uKcbDiA"
      },
      "execution_count": 14,
      "outputs": []
    },
    {
      "cell_type": "code",
      "source": [
        "df_r=index.fit(df).transform(df\n",
        "                             )"
      ],
      "metadata": {
        "id": "Qu3nc65_b6nr"
      },
      "execution_count": 15,
      "outputs": []
    },
    {
      "cell_type": "code",
      "source": [
        "df_r.show()"
      ],
      "metadata": {
        "colab": {
          "base_uri": "https://localhost:8080/"
        },
        "id": "BpCPfcxvci1s",
        "outputId": "6d4b0584-7803-444d-f311-e53e4f04b928"
      },
      "execution_count": 16,
      "outputs": [
        {
          "output_type": "stream",
          "name": "stdout",
          "text": [
            "+----------+----+------+------+---+------+----+------+---------+------+-------+\n",
            "|total_bill| tip|   sex|smoker|day|  time|size|sex_in|smoker_in|day_in|time_in|\n",
            "+----------+----+------+------+---+------+----+------+---------+------+-------+\n",
            "|     16.99|1.01|Female|    No|Sun|Dinner|   2|   1.0|      0.0|   1.0|    0.0|\n",
            "|     10.34|1.66|  Male|    No|Sun|Dinner|   3|   0.0|      0.0|   1.0|    0.0|\n",
            "|     21.01| 3.5|  Male|    No|Sun|Dinner|   3|   0.0|      0.0|   1.0|    0.0|\n",
            "|     23.68|3.31|  Male|    No|Sun|Dinner|   2|   0.0|      0.0|   1.0|    0.0|\n",
            "|     24.59|3.61|Female|    No|Sun|Dinner|   4|   1.0|      0.0|   1.0|    0.0|\n",
            "|     25.29|4.71|  Male|    No|Sun|Dinner|   4|   0.0|      0.0|   1.0|    0.0|\n",
            "|      8.77| 2.0|  Male|    No|Sun|Dinner|   2|   0.0|      0.0|   1.0|    0.0|\n",
            "|     26.88|3.12|  Male|    No|Sun|Dinner|   4|   0.0|      0.0|   1.0|    0.0|\n",
            "|     15.04|1.96|  Male|    No|Sun|Dinner|   2|   0.0|      0.0|   1.0|    0.0|\n",
            "|     14.78|3.23|  Male|    No|Sun|Dinner|   2|   0.0|      0.0|   1.0|    0.0|\n",
            "|     10.27|1.71|  Male|    No|Sun|Dinner|   2|   0.0|      0.0|   1.0|    0.0|\n",
            "|     35.26| 5.0|Female|    No|Sun|Dinner|   4|   1.0|      0.0|   1.0|    0.0|\n",
            "|     15.42|1.57|  Male|    No|Sun|Dinner|   2|   0.0|      0.0|   1.0|    0.0|\n",
            "|     18.43| 3.0|  Male|    No|Sun|Dinner|   4|   0.0|      0.0|   1.0|    0.0|\n",
            "|     14.83|3.02|Female|    No|Sun|Dinner|   2|   1.0|      0.0|   1.0|    0.0|\n",
            "|     21.58|3.92|  Male|    No|Sun|Dinner|   2|   0.0|      0.0|   1.0|    0.0|\n",
            "|     10.33|1.67|Female|    No|Sun|Dinner|   3|   1.0|      0.0|   1.0|    0.0|\n",
            "|     16.29|3.71|  Male|    No|Sun|Dinner|   3|   0.0|      0.0|   1.0|    0.0|\n",
            "|     16.97| 3.5|Female|    No|Sun|Dinner|   3|   1.0|      0.0|   1.0|    0.0|\n",
            "|     20.65|3.35|  Male|    No|Sat|Dinner|   3|   0.0|      0.0|   0.0|    0.0|\n",
            "+----------+----+------+------+---+------+----+------+---------+------+-------+\n",
            "only showing top 20 rows\n",
            "\n"
          ]
        }
      ]
    },
    {
      "cell_type": "code",
      "source": [
        "from pyspark.ml.feature import VectorAssembler"
      ],
      "metadata": {
        "id": "4vIe8f6cclwc"
      },
      "execution_count": 17,
      "outputs": []
    },
    {
      "cell_type": "code",
      "source": [
        "df_r.columns"
      ],
      "metadata": {
        "colab": {
          "base_uri": "https://localhost:8080/"
        },
        "id": "Cc8v3umPdB7V",
        "outputId": "e6753a35-18ea-4c7e-8852-d142337d5da9"
      },
      "execution_count": 18,
      "outputs": [
        {
          "output_type": "execute_result",
          "data": {
            "text/plain": [
              "['total_bill',\n",
              " 'tip',\n",
              " 'sex',\n",
              " 'smoker',\n",
              " 'day',\n",
              " 'time',\n",
              " 'size',\n",
              " 'sex_in',\n",
              " 'smoker_in',\n",
              " 'day_in',\n",
              " 'time_in']"
            ]
          },
          "metadata": {},
          "execution_count": 18
        }
      ]
    },
    {
      "cell_type": "code",
      "source": [
        "featureassembler=VectorAssembler(inputCols=['tip','size','sex_in','smoker_in','day_in','time_in'],outputCol='Indepent Features')"
      ],
      "metadata": {
        "id": "AhCQLp3FcySd"
      },
      "execution_count": 19,
      "outputs": []
    },
    {
      "cell_type": "code",
      "source": [
        "output=featureassembler.transform(df_r)"
      ],
      "metadata": {
        "id": "86ZYGBlSdRUd"
      },
      "execution_count": 20,
      "outputs": []
    },
    {
      "cell_type": "code",
      "source": [
        "output.show()"
      ],
      "metadata": {
        "colab": {
          "base_uri": "https://localhost:8080/"
        },
        "id": "OlEdKtEOdY6P",
        "outputId": "a8eb76b1-a4f0-4b05-9abd-a7221798b5ab"
      },
      "execution_count": 21,
      "outputs": [
        {
          "output_type": "stream",
          "name": "stdout",
          "text": [
            "+----------+----+------+------+---+------+----+------+---------+------+-------+--------------------+\n",
            "|total_bill| tip|   sex|smoker|day|  time|size|sex_in|smoker_in|day_in|time_in|   Indepent Features|\n",
            "+----------+----+------+------+---+------+----+------+---------+------+-------+--------------------+\n",
            "|     16.99|1.01|Female|    No|Sun|Dinner|   2|   1.0|      0.0|   1.0|    0.0|[1.01,2.0,1.0,0.0...|\n",
            "|     10.34|1.66|  Male|    No|Sun|Dinner|   3|   0.0|      0.0|   1.0|    0.0|[1.66,3.0,0.0,0.0...|\n",
            "|     21.01| 3.5|  Male|    No|Sun|Dinner|   3|   0.0|      0.0|   1.0|    0.0|[3.5,3.0,0.0,0.0,...|\n",
            "|     23.68|3.31|  Male|    No|Sun|Dinner|   2|   0.0|      0.0|   1.0|    0.0|[3.31,2.0,0.0,0.0...|\n",
            "|     24.59|3.61|Female|    No|Sun|Dinner|   4|   1.0|      0.0|   1.0|    0.0|[3.61,4.0,1.0,0.0...|\n",
            "|     25.29|4.71|  Male|    No|Sun|Dinner|   4|   0.0|      0.0|   1.0|    0.0|[4.71,4.0,0.0,0.0...|\n",
            "|      8.77| 2.0|  Male|    No|Sun|Dinner|   2|   0.0|      0.0|   1.0|    0.0|[2.0,2.0,0.0,0.0,...|\n",
            "|     26.88|3.12|  Male|    No|Sun|Dinner|   4|   0.0|      0.0|   1.0|    0.0|[3.12,4.0,0.0,0.0...|\n",
            "|     15.04|1.96|  Male|    No|Sun|Dinner|   2|   0.0|      0.0|   1.0|    0.0|[1.96,2.0,0.0,0.0...|\n",
            "|     14.78|3.23|  Male|    No|Sun|Dinner|   2|   0.0|      0.0|   1.0|    0.0|[3.23,2.0,0.0,0.0...|\n",
            "|     10.27|1.71|  Male|    No|Sun|Dinner|   2|   0.0|      0.0|   1.0|    0.0|[1.71,2.0,0.0,0.0...|\n",
            "|     35.26| 5.0|Female|    No|Sun|Dinner|   4|   1.0|      0.0|   1.0|    0.0|[5.0,4.0,1.0,0.0,...|\n",
            "|     15.42|1.57|  Male|    No|Sun|Dinner|   2|   0.0|      0.0|   1.0|    0.0|[1.57,2.0,0.0,0.0...|\n",
            "|     18.43| 3.0|  Male|    No|Sun|Dinner|   4|   0.0|      0.0|   1.0|    0.0|[3.0,4.0,0.0,0.0,...|\n",
            "|     14.83|3.02|Female|    No|Sun|Dinner|   2|   1.0|      0.0|   1.0|    0.0|[3.02,2.0,1.0,0.0...|\n",
            "|     21.58|3.92|  Male|    No|Sun|Dinner|   2|   0.0|      0.0|   1.0|    0.0|[3.92,2.0,0.0,0.0...|\n",
            "|     10.33|1.67|Female|    No|Sun|Dinner|   3|   1.0|      0.0|   1.0|    0.0|[1.67,3.0,1.0,0.0...|\n",
            "|     16.29|3.71|  Male|    No|Sun|Dinner|   3|   0.0|      0.0|   1.0|    0.0|[3.71,3.0,0.0,0.0...|\n",
            "|     16.97| 3.5|Female|    No|Sun|Dinner|   3|   1.0|      0.0|   1.0|    0.0|[3.5,3.0,1.0,0.0,...|\n",
            "|     20.65|3.35|  Male|    No|Sat|Dinner|   3|   0.0|      0.0|   0.0|    0.0|(6,[0,1],[3.35,3.0])|\n",
            "+----------+----+------+------+---+------+----+------+---------+------+-------+--------------------+\n",
            "only showing top 20 rows\n",
            "\n"
          ]
        }
      ]
    },
    {
      "cell_type": "code",
      "source": [
        "final_data=output.select('Indepent Features','total_bill')"
      ],
      "metadata": {
        "id": "vG__76pBdbmM"
      },
      "execution_count": 22,
      "outputs": []
    },
    {
      "cell_type": "code",
      "source": [
        "final_data.show()"
      ],
      "metadata": {
        "colab": {
          "base_uri": "https://localhost:8080/"
        },
        "id": "_XjpXxbGdpHM",
        "outputId": "89b8c27f-652d-4a11-de57-c506492ad06a"
      },
      "execution_count": 23,
      "outputs": [
        {
          "output_type": "stream",
          "name": "stdout",
          "text": [
            "+--------------------+----------+\n",
            "|   Indepent Features|total_bill|\n",
            "+--------------------+----------+\n",
            "|[1.01,2.0,1.0,0.0...|     16.99|\n",
            "|[1.66,3.0,0.0,0.0...|     10.34|\n",
            "|[3.5,3.0,0.0,0.0,...|     21.01|\n",
            "|[3.31,2.0,0.0,0.0...|     23.68|\n",
            "|[3.61,4.0,1.0,0.0...|     24.59|\n",
            "|[4.71,4.0,0.0,0.0...|     25.29|\n",
            "|[2.0,2.0,0.0,0.0,...|      8.77|\n",
            "|[3.12,4.0,0.0,0.0...|     26.88|\n",
            "|[1.96,2.0,0.0,0.0...|     15.04|\n",
            "|[3.23,2.0,0.0,0.0...|     14.78|\n",
            "|[1.71,2.0,0.0,0.0...|     10.27|\n",
            "|[5.0,4.0,1.0,0.0,...|     35.26|\n",
            "|[1.57,2.0,0.0,0.0...|     15.42|\n",
            "|[3.0,4.0,0.0,0.0,...|     18.43|\n",
            "|[3.02,2.0,1.0,0.0...|     14.83|\n",
            "|[3.92,2.0,0.0,0.0...|     21.58|\n",
            "|[1.67,3.0,1.0,0.0...|     10.33|\n",
            "|[3.71,3.0,0.0,0.0...|     16.29|\n",
            "|[3.5,3.0,1.0,0.0,...|     16.97|\n",
            "|(6,[0,1],[3.35,3.0])|     20.65|\n",
            "+--------------------+----------+\n",
            "only showing top 20 rows\n",
            "\n"
          ]
        }
      ]
    },
    {
      "cell_type": "code",
      "source": [
        "from pyspark.ml.regression import LinearRegression\n",
        "train,test=final_data.randomSplit([0.75,0.25])\n",
        "ress=LinearRegression(featuresCol='Indepent Features',labelCol='total_bill')\n",
        "ress=ress.fit(train)"
      ],
      "metadata": {
        "id": "Y9KQ1g50dsqM"
      },
      "execution_count": 25,
      "outputs": []
    },
    {
      "cell_type": "code",
      "source": [
        "ress.coefficients"
      ],
      "metadata": {
        "colab": {
          "base_uri": "https://localhost:8080/"
        },
        "id": "U2nnX3dad637",
        "outputId": "e86feef9-b939-4d42-8bb8-f00de3c747a4"
      },
      "execution_count": 26,
      "outputs": [
        {
          "output_type": "execute_result",
          "data": {
            "text/plain": [
              "DenseVector([2.9496, 3.8904, -1.5189, 2.1893, -0.1434, -1.227])"
            ]
          },
          "metadata": {},
          "execution_count": 26
        }
      ]
    },
    {
      "cell_type": "code",
      "source": [
        "ress.intercept"
      ],
      "metadata": {
        "colab": {
          "base_uri": "https://localhost:8080/"
        },
        "id": "gKEYMfqieEAr",
        "outputId": "97236912-a216-45ea-9164-dd087ab70ce7"
      },
      "execution_count": 27,
      "outputs": [
        {
          "output_type": "execute_result",
          "data": {
            "text/plain": [
              "1.2342281673165831"
            ]
          },
          "metadata": {},
          "execution_count": 27
        }
      ]
    },
    {
      "cell_type": "code",
      "source": [
        "pred_results=ress.evaluate(test)"
      ],
      "metadata": {
        "id": "MJ1RHI_CeIU-"
      },
      "execution_count": 28,
      "outputs": []
    },
    {
      "cell_type": "code",
      "source": [
        "pred_results.predictions.show()"
      ],
      "metadata": {
        "colab": {
          "base_uri": "https://localhost:8080/"
        },
        "id": "5sQLaykBeT4-",
        "outputId": "f5e96910-8fd9-435c-a4aa-e806dbb05a44"
      },
      "execution_count": 29,
      "outputs": [
        {
          "output_type": "stream",
          "name": "stdout",
          "text": [
            "+--------------------+----------+------------------+\n",
            "|   Indepent Features|total_bill|        prediction|\n",
            "+--------------------+----------+------------------+\n",
            "|(6,[0,1],[1.97,2.0])|     12.02|14.825748760896708|\n",
            "| (6,[0,1],[2.0,3.0])|     16.31|18.804673381061423|\n",
            "|(6,[0,1],[2.31,3.0])|     18.69| 19.71903888865709|\n",
            "|(6,[0,1],[2.34,4.0])|     17.81|23.697963508821804|\n",
            "|(6,[0,1],[2.72,2.0])|     13.28|  17.0379233760475|\n",
            "|(6,[0,1],[3.15,3.0])|     20.08|22.196674457625978|\n",
            "| (6,[0,1],[3.6,3.0])|     24.06|23.523979226716456|\n",
            "|[1.0,1.0,1.0,0.0,...|      7.25|6.5553733580783735|\n",
            "|[1.0,2.0,0.0,1.0,...|      12.6|14.153970904341362|\n",
            "|[1.48,2.0,0.0,0.0...|      8.52|11.866656886738353|\n",
            "|[1.5,2.0,0.0,1.0,...|     12.03|15.198547378055336|\n",
            "|[1.5,2.0,1.0,0.0,...|     26.41|11.920594070404254|\n",
            "|[1.56,2.0,0.0,0.0...|      9.94|13.473024436929867|\n",
            "|[1.8,2.0,1.0,0.0,...|     12.43| 11.29165945753807|\n",
            "|[1.83,1.0,1.0,0.0...|     10.07| 7.489708806585417|\n",
            "|[2.0,2.0,0.0,0.0,...|     13.13|14.770833544484999|\n",
            "|[2.0,2.0,0.0,0.0,...|     15.95|13.400431286576238|\n",
            "|[2.0,2.0,0.0,1.0,...|     13.81|17.103537057875755|\n",
            "|[2.0,2.0,0.0,1.0,...|     13.51|15.589732598949254|\n",
            "|[2.0,2.0,1.0,1.0,...|      13.0|14.070874000617966|\n",
            "+--------------------+----------+------------------+\n",
            "only showing top 20 rows\n",
            "\n"
          ]
        }
      ]
    },
    {
      "cell_type": "code",
      "source": [
        "pred_results.r2"
      ],
      "metadata": {
        "colab": {
          "base_uri": "https://localhost:8080/"
        },
        "id": "I_ugeGYleaib",
        "outputId": "29dde22e-4f13-469b-f762-3071a896a047"
      },
      "execution_count": 30,
      "outputs": [
        {
          "output_type": "execute_result",
          "data": {
            "text/plain": [
              "0.5044393276363297"
            ]
          },
          "metadata": {},
          "execution_count": 30
        }
      ]
    },
    {
      "cell_type": "code",
      "source": [
        "pred_results.meanAbsoluteError"
      ],
      "metadata": {
        "colab": {
          "base_uri": "https://localhost:8080/"
        },
        "id": "fTwUbqUCeg5r",
        "outputId": "3b5485c7-5a15-4782-ac8a-23ba5f6e84b7"
      },
      "execution_count": 31,
      "outputs": [
        {
          "output_type": "execute_result",
          "data": {
            "text/plain": [
              "3.490726169635357"
            ]
          },
          "metadata": {},
          "execution_count": 31
        }
      ]
    },
    {
      "cell_type": "code",
      "source": [
        "pred_results.meanSquaredError"
      ],
      "metadata": {
        "colab": {
          "base_uri": "https://localhost:8080/"
        },
        "id": "GtlTeKUJep97",
        "outputId": "04abd756-06da-4671-8118-69b835dac05f"
      },
      "execution_count": 32,
      "outputs": [
        {
          "output_type": "execute_result",
          "data": {
            "text/plain": [
              "21.974404311492652"
            ]
          },
          "metadata": {},
          "execution_count": 32
        }
      ]
    },
    {
      "cell_type": "code",
      "source": [],
      "metadata": {
        "id": "aXmoOqNYeuyN"
      },
      "execution_count": 33,
      "outputs": []
    },
    {
      "cell_type": "code",
      "source": [],
      "metadata": {
        "id": "tokeSdX_e07b"
      },
      "execution_count": null,
      "outputs": []
    }
  ]
}